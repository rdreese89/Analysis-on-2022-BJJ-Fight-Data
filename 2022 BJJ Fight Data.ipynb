{
 "cells": [
  {
   "attachments": {},
   "cell_type": "markdown",
   "id": "infinite-guess",
   "metadata": {},
   "source": [
    "# Cleaning the 2022 Fight Data\n",
    "## Summary\n",
    "The csv file we'll be working with is a subset of semi-cleaned data from the larger web scraping project. The objective here is to analyze and visualize patterns in how fights are won, clusting by weight class and ruleset. For this anaylsis there are a few things that should be touched up prior to continuing. Once completed this data will be moved to Tableau to create an interactive dashboard.\n",
    "\n",
    "## Items to fix:\n",
    "* NaN values within the 'Method' and 'Weight' columns replaced with an empty string.\n",
    "* Creation of a column that shows whether a fight was won by points, regardless of score.\n",
    "* Removing the 'Pts: ' substring from the score in 'Method'.\n",
    "* Removing non-integer characters from the 'Weight' column, exception for the absolute weight class ('Abs').\n",
    "* Calculating the point differential in rows where we have the score.\n",
    "\n",
    "## Deficiencies with the data:\n",
    "* This sample data seems to have reasonable data for the ADCC competitions, but other prominent tournaments (namely IBJJF) are lacking. Results may not reflect the broader trends in BJJ and are specific to the data we *do* have.\n",
    "* Typos - We working with human inputs here and have to assume accuracy regarding all of the fields since I don't have a way to validate the true results, spelling, or weight classes of the various fighters.\n",
    "* Basis toward wins - In a perfect data scenario, each win for a fighter is a loss for another fighter. Since we don't have equal numbers of wins and losses, I assume there is a bias toward humans inputting wins of their favorite fighters over losses.\n",
    "* Basis toward popularity - BJJ Heroes maintains good records for prominent fighters, but pages are limited for less popular fighters.\n"
   ]
  },
  {
   "cell_type": "code",
   "execution_count": 20,
   "id": "sudden-mayor",
   "metadata": {},
   "outputs": [],
   "source": [
    "import pandas as pd\n",
    "\n",
    "df = pd.read_csv('2022_data.csv')"
   ]
  },
  {
   "cell_type": "code",
   "execution_count": 21,
   "id": "composed-bearing",
   "metadata": {},
   "outputs": [],
   "source": [
    "df['Method'] = df['Method'].fillna('')\n",
    "df['Weight'] = df['Weight'].fillna('')"
   ]
  },
  {
   "cell_type": "code",
   "execution_count": 22,
   "id": "aerial-staff",
   "metadata": {},
   "outputs": [],
   "source": [
    "for index, row in df.iterrows():\n",
    "    if row['Method'] == 'Points':\n",
    "        df.loc[index, 'Decided by Points'] = 1\n",
    "    elif 'Pts' in row['Method']:\n",
    "        df.loc[index, 'Decided by Points'] = 1\n",
    "    else:\n",
    "        df.loc[index, 'Decided by Points'] = 0\n",
    "        "
   ]
  },
  {
   "cell_type": "code",
   "execution_count": 23,
   "id": "metallic-stevens",
   "metadata": {},
   "outputs": [],
   "source": [
    "for index, value in df['Method'].iteritems():\n",
    "   df.loc[index, 'Method'] = value.replace('Pts: ','')"
   ]
  },
  {
   "cell_type": "code",
   "execution_count": 24,
   "id": "swiss-composite",
   "metadata": {},
   "outputs": [],
   "source": [
    "for index, value in df['Weight'].iteritems():\n",
    "    df.loc[index, 'Weight'] = value.replace('KG','')"
   ]
  },
  {
   "cell_type": "code",
   "execution_count": 25,
   "id": "enabling-graph",
   "metadata": {},
   "outputs": [],
   "source": [
    "for index, value in df['Weight'].iteritems():\n",
    "    df.loc[index, 'Weight'] = value.replace('O','')"
   ]
  },
  {
   "cell_type": "code",
   "execution_count": 26,
   "id": "announced-distributor",
   "metadata": {},
   "outputs": [],
   "source": [
    "for index, value in df['Method'].iteritems():\n",
    "    if any(char.isdigit() for char in value):\n",
    "        nums = value.split('x')\n",
    "        if len(nums) == 2:\n",
    "            points1, points2 = int(nums[0]), int(nums[1])\n",
    "            df.loc[index, 'Point Diff'] = abs(points1 - points2)\n",
    "        else:\n",
    "            pass\n",
    "    else:\n",
    "        pass"
   ]
  },
  {
   "cell_type": "code",
   "execution_count": 27,
   "id": "leading-criminal",
   "metadata": {},
   "outputs": [
    {
     "name": "stdout",
     "output_type": "stream",
     "text": [
      "            Fighter         Opponent W/L            Method       Competition  \\\n",
      "0  Claudio Calasans  Wellington Paes   W            Armbar     Curitiba SPNG   \n",
      "1   Guilherme Bacha     Artur Gareev   W               3x1  ACB World Champ.   \n",
      "2     Adam Benayoun    Kieran Kichuk   L            EBI/OT      Emerald City   \n",
      "3     Adam Benayoun      Gavin Corbe   L  Referee Decision       NoGi Worlds   \n",
      "4     Adam Benayoun    Miha Perhavec   W               4x2       Austin WNGO   \n",
      "\n",
      "  Weight Stage  Year  Decided by Points  Point Diff  \n",
      "0     85     F  2022                0.0         NaN  \n",
      "1     95    4F  2022                1.0         2.0  \n",
      "2     70     F  2022                0.0         NaN  \n",
      "3     67    4F  2022                0.0         NaN  \n",
      "4    ABS    SF  2022                1.0         2.0  \n"
     ]
    }
   ],
   "source": [
    "print(df.head())"
   ]
  },
  {
   "cell_type": "code",
   "execution_count": 19,
   "id": "cultural-triple",
   "metadata": {},
   "outputs": [],
   "source": [
    "df.to_csv('cleaned_2022_data.csv', index=False)"
   ]
  }
 ],
 "metadata": {
  "kernelspec": {
   "display_name": "Python 3",
   "language": "python",
   "name": "python3"
  },
  "language_info": {
   "codemirror_mode": {
    "name": "ipython",
    "version": 3
   },
   "file_extension": ".py",
   "mimetype": "text/x-python",
   "name": "python",
   "nbconvert_exporter": "python",
   "pygments_lexer": "ipython3",
   "version": "3.9.1"
  }
 },
 "nbformat": 4,
 "nbformat_minor": 5
}
